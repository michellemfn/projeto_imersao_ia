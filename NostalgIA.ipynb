{
  "nbformat": 4,
  "nbformat_minor": 0,
  "metadata": {
    "colab": {
      "provenance": [],
      "authorship_tag": "ABX9TyOMmn6y56RqD+r6FXxWSE7e",
      "include_colab_link": true
    },
    "kernelspec": {
      "name": "python3",
      "display_name": "Python 3"
    },
    "language_info": {
      "name": "python"
    }
  },
  "cells": [
    {
      "cell_type": "markdown",
      "metadata": {
        "id": "view-in-github",
        "colab_type": "text"
      },
      "source": [
        "<a href=\"https://colab.research.google.com/github/michellemfn/projeto_imersao_ia/blob/main/NostalgIA.ipynb\" target=\"_parent\"><img src=\"https://colab.research.google.com/assets/colab-badge.svg\" alt=\"Open In Colab\"/></a>"
      ]
    },
    {
      "cell_type": "markdown",
      "source": [
        "**Sobre o NostalgIA!**\n",
        "Trata-se de um pequeno jogo educativo para demonstrar de forma simples a presença da IA nos dias atuais.\n",
        "A ideia de relembrar os anos 80 é uma estratégia para despertar a curiosidade de professores e pais de alunos.\n",
        "A temática dos anos 80 também visa estimular os alunos a hábitos e brincadeiras distintos dos atuais, para valorizar também outros tipos de interação social.\n",
        "O pequeno jogo educativo também mostra que é uma possibilidade interdisciplinar, pois pode envolver áreas como português, ciências, hstória e outras.\n",
        "Não usamos recursos sofisticados de programação, pois também temos o objetivo de contribuir com o incentivo à programação do público inciante ou de áreas distintas de tecnologia.\n",
        "Vale ressaltar que não temos conhecimento em Inteligência Artificial. Estamos iniciando os estudos na área."
      ],
      "metadata": {
        "id": "i5eW524YnD-e"
      }
    },
    {
      "cell_type": "markdown",
      "source": [
        "**Instalar a biblioteca google-generativeai no ambiente Python**"
      ],
      "metadata": {
        "id": "RWSF6kjX0Fx7"
      }
    },
    {
      "cell_type": "code",
      "execution_count": 3,
      "metadata": {
        "id": "fHfeiq8GejAy"
      },
      "outputs": [],
      "source": [
        "pip install -q -U google-generativeai"
      ]
    },
    {
      "cell_type": "markdown",
      "source": [
        "**Instalar o pacote rich para formatação de texto**"
      ],
      "metadata": {
        "id": "sA9IlepvJvXg"
      }
    },
    {
      "cell_type": "code",
      "source": [
        "!pip install rich"
      ],
      "metadata": {
        "colab": {
          "base_uri": "https://localhost:8080/"
        },
        "id": "qxJBXQcdJooA",
        "outputId": "9ccd12b5-3648-410c-d625-6975250e326d"
      },
      "execution_count": 4,
      "outputs": [
        {
          "output_type": "stream",
          "name": "stdout",
          "text": [
            "Requirement already satisfied: rich in /usr/local/lib/python3.10/dist-packages (13.7.1)\n",
            "Requirement already satisfied: markdown-it-py>=2.2.0 in /usr/local/lib/python3.10/dist-packages (from rich) (3.0.0)\n",
            "Requirement already satisfied: pygments<3.0.0,>=2.13.0 in /usr/local/lib/python3.10/dist-packages (from rich) (2.16.1)\n",
            "Requirement already satisfied: mdurl~=0.1 in /usr/local/lib/python3.10/dist-packages (from markdown-it-py>=2.2.0->rich) (0.1.2)\n"
          ]
        }
      ]
    },
    {
      "cell_type": "markdown",
      "source": [
        "**Importar função print da biblioteca rich e a apelida de rprint**"
      ],
      "metadata": {
        "id": "jYpvg0_pyepr"
      }
    },
    {
      "cell_type": "code",
      "source": [
        "from rich import print as rprint"
      ],
      "metadata": {
        "id": "HpcXL70tKA8q"
      },
      "execution_count": 5,
      "outputs": []
    },
    {
      "cell_type": "markdown",
      "source": [
        "**Importar a biblioteca que fornece acesso à API Gemini da Google AI**"
      ],
      "metadata": {
        "id": "3eexCb0gzcRr"
      }
    },
    {
      "cell_type": "code",
      "source": [
        "# Import the Python SDK\n",
        "import google.generativeai as genai\n",
        "from google.colab import userdata\n",
        "api_key = userdata.get('SECRET_KEY')\n",
        "genai.configure(api_key=api_key)"
      ],
      "metadata": {
        "id": "bR4PxZIrEg_O"
      },
      "execution_count": 6,
      "outputs": []
    },
    {
      "cell_type": "markdown",
      "source": [
        "**Listar os modelos disponíveis**"
      ],
      "metadata": {
        "id": "FKmqjQ0TFUz-"
      }
    },
    {
      "cell_type": "code",
      "source": [
        "for m in genai.list_models():\n",
        "  if 'generateContent' in m.supported_generation_methods:\n",
        "    print(m.name)"
      ],
      "metadata": {
        "colab": {
          "base_uri": "https://localhost:8080/",
          "height": 138
        },
        "id": "yo_xzJffFaND",
        "outputId": "04a276cd-6c77-400e-830a-6d5a8188286f"
      },
      "execution_count": 7,
      "outputs": [
        {
          "output_type": "stream",
          "name": "stdout",
          "text": [
            "models/gemini-1.0-pro\n",
            "models/gemini-1.0-pro-001\n",
            "models/gemini-1.0-pro-latest\n",
            "models/gemini-1.0-pro-vision-latest\n",
            "models/gemini-1.5-pro-latest\n",
            "models/gemini-pro\n",
            "models/gemini-pro-vision\n"
          ]
        }
      ]
    },
    {
      "cell_type": "markdown",
      "source": [
        "**Área de configuração**"
      ],
      "metadata": {
        "id": "edVM_gJjH8Iw"
      }
    },
    {
      "cell_type": "code",
      "source": [
        "generation_config = {\n",
        "    \"candidate_count\":1,\n",
        "    \"temperature\":0.5,\n",
        "}"
      ],
      "metadata": {
        "id": "uCelcVT8IB4b"
      },
      "execution_count": 8,
      "outputs": []
    },
    {
      "cell_type": "markdown",
      "source": [
        "**Configurações de segurança"
      ],
      "metadata": {
        "id": "vCoJPEWSJLQv"
      }
    },
    {
      "cell_type": "code",
      "source": [
        "safety_settings = {\n",
        "    \"HARASSMENT\":\"BLOCK_SOME\",\n",
        "    \"HATE\":\"BLOCK_SOME\",\n",
        "    \"SEXUAL\":\"BLOCK_SOME\",\n",
        "    \"DANGEROUS\":\"BLOCK_SOME\",\n",
        "}"
      ],
      "metadata": {
        "id": "EOylTeVaJPqf"
      },
      "execution_count": 9,
      "outputs": []
    },
    {
      "cell_type": "markdown",
      "source": [
        "**Inicializar o modelo **"
      ],
      "metadata": {
        "id": "7KydPYFXL8vQ"
      }
    },
    {
      "cell_type": "code",
      "source": [
        "model = genai.GenerativeModel(model_name=\"gemini-1.0-pro\",generation_config=generation_config)"
      ],
      "metadata": {
        "id": "3jh-eUNyMCSZ"
      },
      "execution_count": 10,
      "outputs": []
    },
    {
      "cell_type": "markdown",
      "source": [
        "**Código de montagem do jogo**"
      ],
      "metadata": {
        "id": "p7igYWn9DvUH"
      }
    },
    {
      "cell_type": "code",
      "source": [
        "#código responsável por montar um pequeno jogo usando IA numa interação sobre os anos 80\n",
        "rprint(\"[red bold]======================================================== [/bold red]\")\n",
        "rprint(\"[red bold]====================== NostalgIA =======================[/bold red]\")\n",
        "rprint(\"[red bold]========================================================[/bold red]\")\n",
        "rprint(\"[red bold]== Bem-vindo ao NostalgIA! O game sobre IA e anos 80! ==\\n[/]\")\n",
        "rprint(\"[red]Oi! Sou a AnésIA, irmã de Gemini! Vou interagir com você no NostalgIA! Vamos viajar para os anos 80 enquanto jogamos? Estou animada![/]\")\n",
        "opcao = '0' #inicialização da variável que controla o menu\n",
        "pontos_ia = 0; #inicialização dos pontos da IA\n",
        "pontos_jogador = 0; #inicialização dos pontos do jogador\n",
        "chat = model.start_chat(history=[]) #criação do chat que começa com o histórico vazio\n",
        "#========== Menu Principal ==========\n",
        "while opcao != '7': #estrutura de repetição para exibir o menu até que o usuário peça para sair\n",
        "  rprint(\"\\n\\n<<< OPÇÕES >>>\\n[red][1]Brinquedos\\n[2]Defensores do Universo\\n[3]Desenhos animados\\n[4]Ver pontuação\\n[5]Curiosidades sobre AnésIA e Gemini\\n[6]Objetivo do Game\\n[7]Sair[/red]\")\n",
        "  opcao = input(\"DIGITE UMA OPÇÃO: \")\n",
        "  #========== Primeira opção de game ==========\n",
        "  if opcao == '1':\n",
        "    rprint(\"[red bold]\\n======== Brinquedos dos Anos 80 ======== [/bold red]\")\n",
        "    rprint(\"[red bold]\\n======================================== [/bold red]\")\n",
        "    prompt = input(\"Nome de um brinquedo dos anos 80: \") #coletando do usuário parte do será enviado para a IA\n",
        "    response=chat.send_message(\"O(A) \" + prompt +\" é um brinquedo dos anos 80. Certo ou Errado?\") #envio de mensagem para a IA\n",
        "    resposta=response.text #resposta da IA\n",
        "    if resposta == \"Certo\": #se o jogador acertar, somaremos 1 ponto e mostraremos mensagem de parabéns\n",
        "      pontos_jogador = pontos_jogador + 1 #s\n",
        "      print(\"\\nParabéns! Ponto para você!\\n\")\n",
        "    else: #se o jogador errar, quem ganha ponto é a IA\n",
        "      pontos_ia = pontos_ia + 1\n",
        "      print(\"\\nUhu! Ponto para mim!\\n\")\n",
        "    response=chat.send_message(\"Fale em até 4 linhas sobre a resposta dada à pergunta anterior.\") #envio de mensagem à IA pedindo detalhes\n",
        "    print(response.text+\"\\n\") #mostrando detalhes da mensagem\n",
        "    rprint(\"[red bold]\\n======================================== [/bold red]\")\n",
        "    rprint(\"[red bold]\\n======================================== [/bold red]\")\n",
        "  #========== Segunda opção de game ==========\n",
        "  elif opcao == '2':\n",
        "    rprint(\"[red bold]\\n======= Defensores do Universo ========= [/bold red]\")\n",
        "    rprint(\"[red bold]\\n======================================== [/bold red]\")\n",
        "    print(\"Que tal embarcar em um dos desenhos dos anos 80 e apontar ideias para defender o mundo dos problemas ambientais?\")\n",
        "    print(\"Embarcaremos no desenho He-man e os defensores do universo. Para isso, vou começar dando algumas dicas...\\n\")\n",
        "    response = chat.send_message(\"Resuma em poucos parágrafos o que era o desenho He-man e os defensores do universo dos anos 80. Fale sobre Etérnia e os personagens heróis e seus respectivos poderes: Príncipe Adam/He-Man, Gato Guerreiro, Gorpo e Teela, Mentor e Aríete.\")\n",
        "    print(response.text)\n",
        "    print(\"Agora é sua vez! Imagine que Etérnia está sofrendo com muitos problemas ambientais: queimadas, desmatamento, poluição...\\n\")\n",
        "    print(\"Escolha um dos heróis de he-man e faça uma pequena narrativa que descreva como ele usaria seus poderes para enfrentar os problemas mencionados. Use a criatividade e detalhe o que puder.\\n\")\n",
        "    print(\"Sua narrativa será analisada pela IA dentro desse contexto.\\n\")\n",
        "    print(\"Será atribuída uma nota de 0 a 10 apenas para nossa brincadeira ficar mais desafiadora, ok? Ao participar, você ganha um ponto no game!\\n\")\n",
        "    narrativa = input(\"Digite sua narrativa: \")\n",
        "    if narrativa != \"\":\n",
        "      pontos_jogador=pontos_jogador+1\n",
        "    response = chat.send_message(\"Atribua uma nota de 0 a 10 para uma narrativa que tem o objetivo de descrever como um herói de he-man usaria seus poderes para enfrentar problemas ambientais: queimadas, desmatamento, poluição... Consideere que uma nota mais próxima de zero indica que a narrativa não está dentro do contexto, enquanto mais próxima de 10 está. A narrativa é: \"+narrativa)\n",
        "    print(response.text)\n",
        "    rprint(\"[red bold]\\n======================================== [/bold red]\")\n",
        "    rprint(\"[red bold]\\n======================================== [/bold red]\")\n",
        "  #========== Terceira opção de game ==========\n",
        "  elif opcao == '3':\n",
        "    rprint(\"[bold red]\\n=========== Desenhos Animados ============[/bold red]\")\n",
        "    rprint(\"[red bold]\\n========================================== [/bold red]\")\n",
        "    prompt = input(\"Me diga o nome de um desenho animado dos anos 80: \") #o que vc enviará pro chat\n",
        "    resposta = chat.send_message(\"verifique se \"+ prompt + \" é um desenho animado dos anos 80 e me responda com a palavra Sim ou Não.\")\n",
        "    if resposta.text==\"Sim\":\n",
        "      pontos_jogador = pontos_jogador + 1\n",
        "      print(\"Ponto para você! Escolheu um desenho dos anos 80!\\n\")\n",
        "      response=chat.send_message(\"Faça um resumo em 3 linhas de como era o desenho \"+ prompt + \" e descreva sua data de criação \")\n",
        "      print(response.text) #response.text é o que a IA retorna\n",
        "    else:\n",
        "      pontos_ia = pontos_ia + 1\n",
        "      print(\"Ponto para mim! Você não escolheu um desenho dos anos 80!\\n\")\n",
        "      response=chat.send_message(\"Faça um resumo em 3 linhas sobre o que você encontrou sobre o \" + prompt + \"e se há ou não relação com um desenho animado dos anos 80.\")\n",
        "      print(response.text) #response.text é o que a IA retorna\n",
        "    rprint(\"[red bold]\\n======================================== [/bold red]\")\n",
        "    rprint(\"[red bold]\\n======================================== [/bold red]\")\n",
        "  # ========== Quarta opção de game ==========\n",
        "  elif opcao=='4':\n",
        "    rprint(\"[bold red]\\n=============== Pontuação ==============[/bold red]\")\n",
        "    rprint(\"[red bold]\\n======================================== [/bold red]\")\n",
        "    print(\"Você: \",pontos_jogador,\"ponto(s).\")\n",
        "    print(\"AnésIA: \",pontos_ia,\"ponto(s).\")\n",
        "    rprint(\"[red bold]\\n======================================== [/bold red]\")\n",
        "    rprint(\"[red bold]\\n======================================== [/bold red]\")\n",
        "  # ========== História dos anos 80 ==========\n",
        "  elif opcao=='5':\n",
        "    rprint(\"[red bold]\\n== Curiosidades sobre AnésIA e Gemini == [/bold red]\")\n",
        "    rprint(\"[red bold]\\n======================================== [/bold red]\")\n",
        "    response=chat.send_message(\"Considere que Anésia e Gemini são irmãs e eram crianças nos anos 80 no Brasil. Faça uma narrativa, sem usar tópicos e de forma descontraída contando sobre hábitos daquela época, programas de TV, músicas, tecnologias, brincadeiras, guloseimas e moda(vestuário e calçados). Dê um título para a história e conte-nos.\")\n",
        "    print(response.text) #response.text é o que a IA retorna\n",
        "    rprint(\"[red bold]\\n======================================== [/bold red]\")\n",
        "    rprint(\"[red bold]\\n======================================== [/bold red]\")\n",
        "  # ========== Objetivo ==========\n",
        "  elif opcao=='6':\n",
        "    rprint(\"[red bold]\\n=========== Objetivo =================== [/bold red]\")\n",
        "    rprint(\"[red bold]\\n======================================== [/bold red]\")\n",
        "    print(\"Trata-se de um pequeno jogo educativo para demonstrar de forma simples a presença da IA nos dias atuais.\\n\")\n",
        "    print(\"A ideia de relembrar os anos 80 é uma estratégia para despertar a curiosidade de professores e pais de alunos.\\n\")\n",
        "    print(\"A temática dos anos 80 também visa estimular os alunos a hábitos e brincadeiras distintos dos atuais, para valorizar também outros tipos de interação social.\\n\")\n",
        "    print(\"Não usamos recursos sofisticados de programação, pois também temos o objetivo de contrinuir com o incentivo à programação do público inciante ou de áreas distintas de tecnologia.\\n\")\n",
        "    rprint(\"[red bold]\\n======================================== [/bold red]\")\n",
        "    rprint(\"[red bold]\\n======================================== [/bold red]\")\n",
        "  # ========== Saída do sistema ==========\n",
        "  elif opcao=='7':\n",
        "    rprint(\"[bold red]\\n============== Fim de Jogo =============[/bold red]\")\n",
        "    rprint(\"[red bold]\\n======================================== [/bold red]\")\n",
        "    if pontos_jogador > pontos_ia:\n",
        "      rprint(\"Parabéns! Você ganhou nosso jogo sobre os anos 80!\")\n",
        "    elif pontos_jogador < pontos_ia:\n",
        "      rprint(\"Oba! Eu, AnésIA, ganhei nosso jogo sobre os anos 80!\")\n",
        "    else:\n",
        "      rprint(\"O jogo terminou empatado! \")\n",
        "    rprint(\"Você fez \", pontos_jogador, \"ponto(s).\")\n",
        "    rprint(\"Eu fiz \", pontos_ia, \"ponto(s).\")\n",
        "  # ========== Mensagem de opção inválida ==========\n",
        "  else:\n",
        "    print('Opção inválida\\n')\n",
        "rprint(\"Obrigada por participar! Você usou a Inteligência Artificial no presente para relembrar o passado!\")\n",
        "print('Até a próxima!')\n",
        "rprint(\"[red bold]\\n======================================== [/bold red]\")\n",
        "rprint(\"[red bold]\\n======================================== [/bold red]\")"
      ],
      "metadata": {
        "id": "scZI4ma5hsJy",
        "colab": {
          "base_uri": "https://localhost:8080/",
          "height": 1000
        },
        "outputId": "be5e5bd1-5620-4c28-cee0-80c172160384"
      },
      "execution_count": 35,
      "outputs": [
        {
          "output_type": "display_data",
          "data": {
            "text/plain": [
              "\u001b[1;31m======================================================== \u001b[0m\n"
            ],
            "text/html": [
              "<pre style=\"white-space:pre;overflow-x:auto;line-height:normal;font-family:Menlo,'DejaVu Sans Mono',consolas,'Courier New',monospace\"><span style=\"color: #800000; text-decoration-color: #800000; font-weight: bold\">======================================================== </span>\n",
              "</pre>\n"
            ]
          },
          "metadata": {}
        },
        {
          "output_type": "display_data",
          "data": {
            "text/plain": [
              "\u001b[1;31m====================== NostalgIA =======================\u001b[0m\n"
            ],
            "text/html": [
              "<pre style=\"white-space:pre;overflow-x:auto;line-height:normal;font-family:Menlo,'DejaVu Sans Mono',consolas,'Courier New',monospace\"><span style=\"color: #800000; text-decoration-color: #800000; font-weight: bold\">====================== NostalgIA =======================</span>\n",
              "</pre>\n"
            ]
          },
          "metadata": {}
        },
        {
          "output_type": "display_data",
          "data": {
            "text/plain": [
              "\u001b[1;31m========================================================\u001b[0m\n"
            ],
            "text/html": [
              "<pre style=\"white-space:pre;overflow-x:auto;line-height:normal;font-family:Menlo,'DejaVu Sans Mono',consolas,'Courier New',monospace\"><span style=\"color: #800000; text-decoration-color: #800000; font-weight: bold\">========================================================</span>\n",
              "</pre>\n"
            ]
          },
          "metadata": {}
        },
        {
          "output_type": "display_data",
          "data": {
            "text/plain": [
              "\u001b[1;31m== Bem-vindo ao NostalgIA! O game sobre IA e anos \u001b[0m\u001b[1;31m80\u001b[0m\u001b[1;31m! ==\u001b[0m\n",
              "\n"
            ],
            "text/html": [
              "<pre style=\"white-space:pre;overflow-x:auto;line-height:normal;font-family:Menlo,'DejaVu Sans Mono',consolas,'Courier New',monospace\"><span style=\"color: #800000; text-decoration-color: #800000; font-weight: bold\">== Bem-vindo ao NostalgIA! O game sobre IA e anos </span><span style=\"color: #800000; text-decoration-color: #800000; font-weight: bold\">80</span><span style=\"color: #800000; text-decoration-color: #800000; font-weight: bold\">! ==</span>\n",
              "\n",
              "</pre>\n"
            ]
          },
          "metadata": {}
        },
        {
          "output_type": "display_data",
          "data": {
            "text/plain": [
              "\u001b[31mOi! Sou a AnésIA, irmã de Gemini! Vou interagir com você no NostalgIA! Vamos viajar para os anos \u001b[0m\u001b[1;31m80\u001b[0m\u001b[31m enquanto \u001b[0m\n",
              "\u001b[31mjogamos? Estou animada!\u001b[0m\n"
            ],
            "text/html": [
              "<pre style=\"white-space:pre;overflow-x:auto;line-height:normal;font-family:Menlo,'DejaVu Sans Mono',consolas,'Courier New',monospace\"><span style=\"color: #800000; text-decoration-color: #800000\">Oi! Sou a AnésIA, irmã de Gemini! Vou interagir com você no NostalgIA! Vamos viajar para os anos </span><span style=\"color: #800000; text-decoration-color: #800000; font-weight: bold\">80</span><span style=\"color: #800000; text-decoration-color: #800000\"> enquanto </span>\n",
              "<span style=\"color: #800000; text-decoration-color: #800000\">jogamos? Estou animada!</span>\n",
              "</pre>\n"
            ]
          },
          "metadata": {}
        },
        {
          "output_type": "display_data",
          "data": {
            "text/plain": [
              "\n",
              "\n",
              "\u001b[1m<\u001b[0m\u001b[39m<< OPÇÕES >>\u001b[0m\u001b[1m>\u001b[0m\n",
              "\u001b[1;31m[\u001b[0m\u001b[1;31m1\u001b[0m\u001b[1;31m]\u001b[0m\u001b[31mBrinquedos\u001b[0m\n",
              "\u001b[1;31m[\u001b[0m\u001b[1;31m2\u001b[0m\u001b[1;31m]\u001b[0m\u001b[31mDefensores do Universo\u001b[0m\n",
              "\u001b[1;31m[\u001b[0m\u001b[1;31m3\u001b[0m\u001b[1;31m]\u001b[0m\u001b[31mDesenhos animados\u001b[0m\n",
              "\u001b[1;31m[\u001b[0m\u001b[1;31m4\u001b[0m\u001b[1;31m]\u001b[0m\u001b[31mVer pontuação\u001b[0m\n",
              "\u001b[1;31m[\u001b[0m\u001b[1;31m5\u001b[0m\u001b[1;31m]\u001b[0m\u001b[31mCuriosidades sobre AnésIA e Gemini\u001b[0m\n",
              "\u001b[1;31m[\u001b[0m\u001b[1;31m6\u001b[0m\u001b[1;31m]\u001b[0m\u001b[31mObjetivo do Game\u001b[0m\n",
              "\u001b[1;31m[\u001b[0m\u001b[1;31m7\u001b[0m\u001b[1;31m]\u001b[0m\u001b[31mSair\u001b[0m\n"
            ],
            "text/html": [
              "<pre style=\"white-space:pre;overflow-x:auto;line-height:normal;font-family:Menlo,'DejaVu Sans Mono',consolas,'Courier New',monospace\">\n",
              "\n",
              "<span style=\"font-weight: bold\">&lt;</span><span style=\"color: #000000; text-decoration-color: #000000\">&lt;&lt; OPÇÕES &gt;&gt;</span><span style=\"font-weight: bold\">&gt;</span>\n",
              "<span style=\"color: #800000; text-decoration-color: #800000; font-weight: bold\">[</span><span style=\"color: #800000; text-decoration-color: #800000; font-weight: bold\">1</span><span style=\"color: #800000; text-decoration-color: #800000; font-weight: bold\">]</span><span style=\"color: #800000; text-decoration-color: #800000\">Brinquedos</span>\n",
              "<span style=\"color: #800000; text-decoration-color: #800000; font-weight: bold\">[</span><span style=\"color: #800000; text-decoration-color: #800000; font-weight: bold\">2</span><span style=\"color: #800000; text-decoration-color: #800000; font-weight: bold\">]</span><span style=\"color: #800000; text-decoration-color: #800000\">Defensores do Universo</span>\n",
              "<span style=\"color: #800000; text-decoration-color: #800000; font-weight: bold\">[</span><span style=\"color: #800000; text-decoration-color: #800000; font-weight: bold\">3</span><span style=\"color: #800000; text-decoration-color: #800000; font-weight: bold\">]</span><span style=\"color: #800000; text-decoration-color: #800000\">Desenhos animados</span>\n",
              "<span style=\"color: #800000; text-decoration-color: #800000; font-weight: bold\">[</span><span style=\"color: #800000; text-decoration-color: #800000; font-weight: bold\">4</span><span style=\"color: #800000; text-decoration-color: #800000; font-weight: bold\">]</span><span style=\"color: #800000; text-decoration-color: #800000\">Ver pontuação</span>\n",
              "<span style=\"color: #800000; text-decoration-color: #800000; font-weight: bold\">[</span><span style=\"color: #800000; text-decoration-color: #800000; font-weight: bold\">5</span><span style=\"color: #800000; text-decoration-color: #800000; font-weight: bold\">]</span><span style=\"color: #800000; text-decoration-color: #800000\">Curiosidades sobre AnésIA e Gemini</span>\n",
              "<span style=\"color: #800000; text-decoration-color: #800000; font-weight: bold\">[</span><span style=\"color: #800000; text-decoration-color: #800000; font-weight: bold\">6</span><span style=\"color: #800000; text-decoration-color: #800000; font-weight: bold\">]</span><span style=\"color: #800000; text-decoration-color: #800000\">Objetivo do Game</span>\n",
              "<span style=\"color: #800000; text-decoration-color: #800000; font-weight: bold\">[</span><span style=\"color: #800000; text-decoration-color: #800000; font-weight: bold\">7</span><span style=\"color: #800000; text-decoration-color: #800000; font-weight: bold\">]</span><span style=\"color: #800000; text-decoration-color: #800000\">Sair</span>\n",
              "</pre>\n"
            ]
          },
          "metadata": {}
        },
        {
          "name": "stdout",
          "output_type": "stream",
          "text": [
            "DIGITE UMA OPÇÃO: 1\n"
          ]
        },
        {
          "output_type": "display_data",
          "data": {
            "text/plain": [
              "\n",
              "\u001b[1;31m======== Brinquedos dos Anos \u001b[0m\u001b[1;31m80\u001b[0m\u001b[1;31m ======== \u001b[0m\n"
            ],
            "text/html": [
              "<pre style=\"white-space:pre;overflow-x:auto;line-height:normal;font-family:Menlo,'DejaVu Sans Mono',consolas,'Courier New',monospace\">\n",
              "<span style=\"color: #800000; text-decoration-color: #800000; font-weight: bold\">======== Brinquedos dos Anos </span><span style=\"color: #800000; text-decoration-color: #800000; font-weight: bold\">80</span><span style=\"color: #800000; text-decoration-color: #800000; font-weight: bold\"> ======== </span>\n",
              "</pre>\n"
            ]
          },
          "metadata": {}
        },
        {
          "output_type": "display_data",
          "data": {
            "text/plain": [
              "\n",
              "\u001b[1;31m======================================== \u001b[0m\n"
            ],
            "text/html": [
              "<pre style=\"white-space:pre;overflow-x:auto;line-height:normal;font-family:Menlo,'DejaVu Sans Mono',consolas,'Courier New',monospace\">\n",
              "<span style=\"color: #800000; text-decoration-color: #800000; font-weight: bold\">======================================== </span>\n",
              "</pre>\n"
            ]
          },
          "metadata": {}
        },
        {
          "output_type": "stream",
          "name": "stdout",
          "text": [
            "Nome de um brinquedo dos anos 80: bola de gude\n",
            "\n",
            "Parabéns! Ponto para você!\n",
            "\n",
            "A resposta anterior está correta porque a bola de gude é um brinquedo que se popularizou na década de 1980, embora sua origem seja anterior. É um brinquedo simples, mas divertido, que consiste em pequenas esferas de vidro ou cerâmica que são usadas para jogar vários jogos.\n",
            "\n"
          ]
        },
        {
          "output_type": "display_data",
          "data": {
            "text/plain": [
              "\n",
              "\u001b[1;31m======================================== \u001b[0m\n"
            ],
            "text/html": [
              "<pre style=\"white-space:pre;overflow-x:auto;line-height:normal;font-family:Menlo,'DejaVu Sans Mono',consolas,'Courier New',monospace\">\n",
              "<span style=\"color: #800000; text-decoration-color: #800000; font-weight: bold\">======================================== </span>\n",
              "</pre>\n"
            ]
          },
          "metadata": {}
        },
        {
          "output_type": "display_data",
          "data": {
            "text/plain": [
              "\n",
              "\u001b[1;31m======================================== \u001b[0m\n"
            ],
            "text/html": [
              "<pre style=\"white-space:pre;overflow-x:auto;line-height:normal;font-family:Menlo,'DejaVu Sans Mono',consolas,'Courier New',monospace\">\n",
              "<span style=\"color: #800000; text-decoration-color: #800000; font-weight: bold\">======================================== </span>\n",
              "</pre>\n"
            ]
          },
          "metadata": {}
        },
        {
          "output_type": "display_data",
          "data": {
            "text/plain": [
              "\n",
              "\n",
              "\u001b[1m<\u001b[0m\u001b[39m<< OPÇÕES >>\u001b[0m\u001b[1m>\u001b[0m\n",
              "\u001b[1;31m[\u001b[0m\u001b[1;31m1\u001b[0m\u001b[1;31m]\u001b[0m\u001b[31mBrinquedos\u001b[0m\n",
              "\u001b[1;31m[\u001b[0m\u001b[1;31m2\u001b[0m\u001b[1;31m]\u001b[0m\u001b[31mDefensores do Universo\u001b[0m\n",
              "\u001b[1;31m[\u001b[0m\u001b[1;31m3\u001b[0m\u001b[1;31m]\u001b[0m\u001b[31mDesenhos animados\u001b[0m\n",
              "\u001b[1;31m[\u001b[0m\u001b[1;31m4\u001b[0m\u001b[1;31m]\u001b[0m\u001b[31mVer pontuação\u001b[0m\n",
              "\u001b[1;31m[\u001b[0m\u001b[1;31m5\u001b[0m\u001b[1;31m]\u001b[0m\u001b[31mCuriosidades sobre AnésIA e Gemini\u001b[0m\n",
              "\u001b[1;31m[\u001b[0m\u001b[1;31m6\u001b[0m\u001b[1;31m]\u001b[0m\u001b[31mObjetivo do Game\u001b[0m\n",
              "\u001b[1;31m[\u001b[0m\u001b[1;31m7\u001b[0m\u001b[1;31m]\u001b[0m\u001b[31mSair\u001b[0m\n"
            ],
            "text/html": [
              "<pre style=\"white-space:pre;overflow-x:auto;line-height:normal;font-family:Menlo,'DejaVu Sans Mono',consolas,'Courier New',monospace\">\n",
              "\n",
              "<span style=\"font-weight: bold\">&lt;</span><span style=\"color: #000000; text-decoration-color: #000000\">&lt;&lt; OPÇÕES &gt;&gt;</span><span style=\"font-weight: bold\">&gt;</span>\n",
              "<span style=\"color: #800000; text-decoration-color: #800000; font-weight: bold\">[</span><span style=\"color: #800000; text-decoration-color: #800000; font-weight: bold\">1</span><span style=\"color: #800000; text-decoration-color: #800000; font-weight: bold\">]</span><span style=\"color: #800000; text-decoration-color: #800000\">Brinquedos</span>\n",
              "<span style=\"color: #800000; text-decoration-color: #800000; font-weight: bold\">[</span><span style=\"color: #800000; text-decoration-color: #800000; font-weight: bold\">2</span><span style=\"color: #800000; text-decoration-color: #800000; font-weight: bold\">]</span><span style=\"color: #800000; text-decoration-color: #800000\">Defensores do Universo</span>\n",
              "<span style=\"color: #800000; text-decoration-color: #800000; font-weight: bold\">[</span><span style=\"color: #800000; text-decoration-color: #800000; font-weight: bold\">3</span><span style=\"color: #800000; text-decoration-color: #800000; font-weight: bold\">]</span><span style=\"color: #800000; text-decoration-color: #800000\">Desenhos animados</span>\n",
              "<span style=\"color: #800000; text-decoration-color: #800000; font-weight: bold\">[</span><span style=\"color: #800000; text-decoration-color: #800000; font-weight: bold\">4</span><span style=\"color: #800000; text-decoration-color: #800000; font-weight: bold\">]</span><span style=\"color: #800000; text-decoration-color: #800000\">Ver pontuação</span>\n",
              "<span style=\"color: #800000; text-decoration-color: #800000; font-weight: bold\">[</span><span style=\"color: #800000; text-decoration-color: #800000; font-weight: bold\">5</span><span style=\"color: #800000; text-decoration-color: #800000; font-weight: bold\">]</span><span style=\"color: #800000; text-decoration-color: #800000\">Curiosidades sobre AnésIA e Gemini</span>\n",
              "<span style=\"color: #800000; text-decoration-color: #800000; font-weight: bold\">[</span><span style=\"color: #800000; text-decoration-color: #800000; font-weight: bold\">6</span><span style=\"color: #800000; text-decoration-color: #800000; font-weight: bold\">]</span><span style=\"color: #800000; text-decoration-color: #800000\">Objetivo do Game</span>\n",
              "<span style=\"color: #800000; text-decoration-color: #800000; font-weight: bold\">[</span><span style=\"color: #800000; text-decoration-color: #800000; font-weight: bold\">7</span><span style=\"color: #800000; text-decoration-color: #800000; font-weight: bold\">]</span><span style=\"color: #800000; text-decoration-color: #800000\">Sair</span>\n",
              "</pre>\n"
            ]
          },
          "metadata": {}
        },
        {
          "name": "stdout",
          "output_type": "stream",
          "text": [
            "DIGITE UMA OPÇÃO: 2\n"
          ]
        },
        {
          "output_type": "display_data",
          "data": {
            "text/plain": [
              "\n",
              "\u001b[1;31m======= Defensores do Universo ========= \u001b[0m\n"
            ],
            "text/html": [
              "<pre style=\"white-space:pre;overflow-x:auto;line-height:normal;font-family:Menlo,'DejaVu Sans Mono',consolas,'Courier New',monospace\">\n",
              "<span style=\"color: #800000; text-decoration-color: #800000; font-weight: bold\">======= Defensores do Universo ========= </span>\n",
              "</pre>\n"
            ]
          },
          "metadata": {}
        },
        {
          "output_type": "display_data",
          "data": {
            "text/plain": [
              "\n",
              "\u001b[1;31m======================================== \u001b[0m\n"
            ],
            "text/html": [
              "<pre style=\"white-space:pre;overflow-x:auto;line-height:normal;font-family:Menlo,'DejaVu Sans Mono',consolas,'Courier New',monospace\">\n",
              "<span style=\"color: #800000; text-decoration-color: #800000; font-weight: bold\">======================================== </span>\n",
              "</pre>\n"
            ]
          },
          "metadata": {}
        },
        {
          "output_type": "stream",
          "name": "stdout",
          "text": [
            "Que tal embarcar em um dos desenhos dos anos 80 e apontar ideias para defender o mundo dos problemas ambientais?\n",
            "Embarcaremos no desenho He-man e os defensores do universo. Para isso, vou começar dando algumas dicas...\n",
            "\n",
            "He-Man e os Defensores do Universo foi um desenho animado popular dos anos 80 que se passava no planeta Etérnia, um mundo de fantasia onde a magia e a tecnologia se entrelaçavam. A história girava em torno do Príncipe Adam, um jovem que possuía a Espada do Poder, que lhe permitia se transformar no poderoso guerreiro He-Man.\n",
            "\n",
            "Junto com seus aliados, Gato Guerreiro, Gorpo, Teela, Mentor e Aríete, He-Man lutava contra as forças do mal lideradas pelo maligno Esqueleto. Cada um dos heróis possuía poderes únicos:\n",
            "\n",
            "* **Príncipe Adam/He-Man:** Com a Espada do Poder, Adam se transformava em He-Man, um guerreiro com força e velocidade sobre-humanas.\n",
            "* **Gato Guerreiro:** Um habilidoso espadachim e arqueiro com sentidos aguçados e agilidade felina.\n",
            "* **Gorpo:** Um homem forte e corajoso com a capacidade de se transformar em um poderoso gorila.\n",
            "* **Teela:** Uma guerreira habilidosa e filha adotiva da Feiticeira do Castelo de Grayskull.\n",
            "* **Mentor:** Um sábio e poderoso mago que servia como conselheiro de He-Man.\n",
            "* **Aríete:** Um robô gigante pilotado por Adam que possuía grande força e resistência.\n",
            "\n",
            "Juntos, os Defensores do Universo enfrentavam perigos e desafios constantes, protegendo Etérnia das forças do mal e promovendo a justiça e a coragem.\n",
            "Agora é sua vez! Imagine que Etérnia está sofrendo com muitos problemas ambientais: queimadas, desmatamento, poluição...\n",
            "\n",
            "Escolha um dos heróis de he-man e faça uma pequena narrativa que descreva como ele usaria seus poderes para enfrentar os problemas mencionados. Use a criatividade e detalhe o que puder.\n",
            "\n",
            "Sua narrativa será analisada pela IA dentro desse contexto.\n",
            "\n",
            "Será atribuída uma nota de 0 a 10 apenas para nossa brincadeira ficar mais desafiadora, ok? Ao participar, você ganha um ponto no game!\n",
            "\n",
            "Digite sua narrativa: participei\n",
            "**Nota: 2/10**\n",
            "\n",
            "A narrativa fornecida não está dentro do contexto do tema proposto. Ela não descreve como um herói de He-Man usaria seus poderes para enfrentar problemas ambientais.\n",
            "\n",
            "Para obter uma nota mais alta, a narrativa deveria se concentrar nos poderes e habilidades específicas dos heróis de He-Man e explicar como eles poderiam ser usados para resolver problemas ambientais específicos, como:\n",
            "\n",
            "* **Príncipe Adam/He-Man:** Usar sua força sobre-humana para apagar incêndios florestais ou remover detritos de áreas desmatadas.\n",
            "* **Gato Guerreiro:** Usar sua agilidade e sentidos aguçados para rastrear caçadores ilegais ou monitorar áreas ameaçadas.\n",
            "* **Gorpo:** Usar sua capacidade de se transformar em um gorila para limpar áreas poluídas ou plantar árvores.\n",
            "* **Teela:** Usar suas habilidades de combate e liderança para organizar e treinar equipes de conservação.\n",
            "* **Mentor:** Usar sua magia para purificar água poluída ou criar barreiras protetoras ao redor de habitats ameaçados.\n",
            "* **Aríete:** Usar sua força e resistência para transportar suprimentos para áreas afetadas por desastres ambientais ou construir estruturas para proteger ecossistemas frágeis.\n"
          ]
        },
        {
          "output_type": "display_data",
          "data": {
            "text/plain": [
              "\n",
              "\u001b[1;31m======================================== \u001b[0m\n"
            ],
            "text/html": [
              "<pre style=\"white-space:pre;overflow-x:auto;line-height:normal;font-family:Menlo,'DejaVu Sans Mono',consolas,'Courier New',monospace\">\n",
              "<span style=\"color: #800000; text-decoration-color: #800000; font-weight: bold\">======================================== </span>\n",
              "</pre>\n"
            ]
          },
          "metadata": {}
        },
        {
          "output_type": "display_data",
          "data": {
            "text/plain": [
              "\n",
              "\u001b[1;31m======================================== \u001b[0m\n"
            ],
            "text/html": [
              "<pre style=\"white-space:pre;overflow-x:auto;line-height:normal;font-family:Menlo,'DejaVu Sans Mono',consolas,'Courier New',monospace\">\n",
              "<span style=\"color: #800000; text-decoration-color: #800000; font-weight: bold\">======================================== </span>\n",
              "</pre>\n"
            ]
          },
          "metadata": {}
        },
        {
          "output_type": "display_data",
          "data": {
            "text/plain": [
              "\n",
              "\n",
              "\u001b[1m<\u001b[0m\u001b[39m<< OPÇÕES >>\u001b[0m\u001b[1m>\u001b[0m\n",
              "\u001b[1;31m[\u001b[0m\u001b[1;31m1\u001b[0m\u001b[1;31m]\u001b[0m\u001b[31mBrinquedos\u001b[0m\n",
              "\u001b[1;31m[\u001b[0m\u001b[1;31m2\u001b[0m\u001b[1;31m]\u001b[0m\u001b[31mDefensores do Universo\u001b[0m\n",
              "\u001b[1;31m[\u001b[0m\u001b[1;31m3\u001b[0m\u001b[1;31m]\u001b[0m\u001b[31mDesenhos animados\u001b[0m\n",
              "\u001b[1;31m[\u001b[0m\u001b[1;31m4\u001b[0m\u001b[1;31m]\u001b[0m\u001b[31mVer pontuação\u001b[0m\n",
              "\u001b[1;31m[\u001b[0m\u001b[1;31m5\u001b[0m\u001b[1;31m]\u001b[0m\u001b[31mCuriosidades sobre AnésIA e Gemini\u001b[0m\n",
              "\u001b[1;31m[\u001b[0m\u001b[1;31m6\u001b[0m\u001b[1;31m]\u001b[0m\u001b[31mObjetivo do Game\u001b[0m\n",
              "\u001b[1;31m[\u001b[0m\u001b[1;31m7\u001b[0m\u001b[1;31m]\u001b[0m\u001b[31mSair\u001b[0m\n"
            ],
            "text/html": [
              "<pre style=\"white-space:pre;overflow-x:auto;line-height:normal;font-family:Menlo,'DejaVu Sans Mono',consolas,'Courier New',monospace\">\n",
              "\n",
              "<span style=\"font-weight: bold\">&lt;</span><span style=\"color: #000000; text-decoration-color: #000000\">&lt;&lt; OPÇÕES &gt;&gt;</span><span style=\"font-weight: bold\">&gt;</span>\n",
              "<span style=\"color: #800000; text-decoration-color: #800000; font-weight: bold\">[</span><span style=\"color: #800000; text-decoration-color: #800000; font-weight: bold\">1</span><span style=\"color: #800000; text-decoration-color: #800000; font-weight: bold\">]</span><span style=\"color: #800000; text-decoration-color: #800000\">Brinquedos</span>\n",
              "<span style=\"color: #800000; text-decoration-color: #800000; font-weight: bold\">[</span><span style=\"color: #800000; text-decoration-color: #800000; font-weight: bold\">2</span><span style=\"color: #800000; text-decoration-color: #800000; font-weight: bold\">]</span><span style=\"color: #800000; text-decoration-color: #800000\">Defensores do Universo</span>\n",
              "<span style=\"color: #800000; text-decoration-color: #800000; font-weight: bold\">[</span><span style=\"color: #800000; text-decoration-color: #800000; font-weight: bold\">3</span><span style=\"color: #800000; text-decoration-color: #800000; font-weight: bold\">]</span><span style=\"color: #800000; text-decoration-color: #800000\">Desenhos animados</span>\n",
              "<span style=\"color: #800000; text-decoration-color: #800000; font-weight: bold\">[</span><span style=\"color: #800000; text-decoration-color: #800000; font-weight: bold\">4</span><span style=\"color: #800000; text-decoration-color: #800000; font-weight: bold\">]</span><span style=\"color: #800000; text-decoration-color: #800000\">Ver pontuação</span>\n",
              "<span style=\"color: #800000; text-decoration-color: #800000; font-weight: bold\">[</span><span style=\"color: #800000; text-decoration-color: #800000; font-weight: bold\">5</span><span style=\"color: #800000; text-decoration-color: #800000; font-weight: bold\">]</span><span style=\"color: #800000; text-decoration-color: #800000\">Curiosidades sobre AnésIA e Gemini</span>\n",
              "<span style=\"color: #800000; text-decoration-color: #800000; font-weight: bold\">[</span><span style=\"color: #800000; text-decoration-color: #800000; font-weight: bold\">6</span><span style=\"color: #800000; text-decoration-color: #800000; font-weight: bold\">]</span><span style=\"color: #800000; text-decoration-color: #800000\">Objetivo do Game</span>\n",
              "<span style=\"color: #800000; text-decoration-color: #800000; font-weight: bold\">[</span><span style=\"color: #800000; text-decoration-color: #800000; font-weight: bold\">7</span><span style=\"color: #800000; text-decoration-color: #800000; font-weight: bold\">]</span><span style=\"color: #800000; text-decoration-color: #800000\">Sair</span>\n",
              "</pre>\n"
            ]
          },
          "metadata": {}
        },
        {
          "name": "stdout",
          "output_type": "stream",
          "text": [
            "DIGITE UMA OPÇÃO: 4\n"
          ]
        },
        {
          "output_type": "display_data",
          "data": {
            "text/plain": [
              "\n",
              "\u001b[1;31m=============== Pontuação ==============\u001b[0m\n"
            ],
            "text/html": [
              "<pre style=\"white-space:pre;overflow-x:auto;line-height:normal;font-family:Menlo,'DejaVu Sans Mono',consolas,'Courier New',monospace\">\n",
              "<span style=\"color: #800000; text-decoration-color: #800000; font-weight: bold\">=============== Pontuação ==============</span>\n",
              "</pre>\n"
            ]
          },
          "metadata": {}
        },
        {
          "output_type": "display_data",
          "data": {
            "text/plain": [
              "\n",
              "\u001b[1;31m======================================== \u001b[0m\n"
            ],
            "text/html": [
              "<pre style=\"white-space:pre;overflow-x:auto;line-height:normal;font-family:Menlo,'DejaVu Sans Mono',consolas,'Courier New',monospace\">\n",
              "<span style=\"color: #800000; text-decoration-color: #800000; font-weight: bold\">======================================== </span>\n",
              "</pre>\n"
            ]
          },
          "metadata": {}
        },
        {
          "output_type": "stream",
          "name": "stdout",
          "text": [
            "Você:  2 ponto(s).\n",
            "AnésIA:  0 ponto(s).\n"
          ]
        },
        {
          "output_type": "display_data",
          "data": {
            "text/plain": [
              "\n",
              "\u001b[1;31m======================================== \u001b[0m\n"
            ],
            "text/html": [
              "<pre style=\"white-space:pre;overflow-x:auto;line-height:normal;font-family:Menlo,'DejaVu Sans Mono',consolas,'Courier New',monospace\">\n",
              "<span style=\"color: #800000; text-decoration-color: #800000; font-weight: bold\">======================================== </span>\n",
              "</pre>\n"
            ]
          },
          "metadata": {}
        },
        {
          "output_type": "display_data",
          "data": {
            "text/plain": [
              "\n",
              "\u001b[1;31m======================================== \u001b[0m\n"
            ],
            "text/html": [
              "<pre style=\"white-space:pre;overflow-x:auto;line-height:normal;font-family:Menlo,'DejaVu Sans Mono',consolas,'Courier New',monospace\">\n",
              "<span style=\"color: #800000; text-decoration-color: #800000; font-weight: bold\">======================================== </span>\n",
              "</pre>\n"
            ]
          },
          "metadata": {}
        },
        {
          "output_type": "display_data",
          "data": {
            "text/plain": [
              "\n",
              "\n",
              "\u001b[1m<\u001b[0m\u001b[39m<< OPÇÕES >>\u001b[0m\u001b[1m>\u001b[0m\n",
              "\u001b[1;31m[\u001b[0m\u001b[1;31m1\u001b[0m\u001b[1;31m]\u001b[0m\u001b[31mBrinquedos\u001b[0m\n",
              "\u001b[1;31m[\u001b[0m\u001b[1;31m2\u001b[0m\u001b[1;31m]\u001b[0m\u001b[31mDefensores do Universo\u001b[0m\n",
              "\u001b[1;31m[\u001b[0m\u001b[1;31m3\u001b[0m\u001b[1;31m]\u001b[0m\u001b[31mDesenhos animados\u001b[0m\n",
              "\u001b[1;31m[\u001b[0m\u001b[1;31m4\u001b[0m\u001b[1;31m]\u001b[0m\u001b[31mVer pontuação\u001b[0m\n",
              "\u001b[1;31m[\u001b[0m\u001b[1;31m5\u001b[0m\u001b[1;31m]\u001b[0m\u001b[31mCuriosidades sobre AnésIA e Gemini\u001b[0m\n",
              "\u001b[1;31m[\u001b[0m\u001b[1;31m6\u001b[0m\u001b[1;31m]\u001b[0m\u001b[31mObjetivo do Game\u001b[0m\n",
              "\u001b[1;31m[\u001b[0m\u001b[1;31m7\u001b[0m\u001b[1;31m]\u001b[0m\u001b[31mSair\u001b[0m\n"
            ],
            "text/html": [
              "<pre style=\"white-space:pre;overflow-x:auto;line-height:normal;font-family:Menlo,'DejaVu Sans Mono',consolas,'Courier New',monospace\">\n",
              "\n",
              "<span style=\"font-weight: bold\">&lt;</span><span style=\"color: #000000; text-decoration-color: #000000\">&lt;&lt; OPÇÕES &gt;&gt;</span><span style=\"font-weight: bold\">&gt;</span>\n",
              "<span style=\"color: #800000; text-decoration-color: #800000; font-weight: bold\">[</span><span style=\"color: #800000; text-decoration-color: #800000; font-weight: bold\">1</span><span style=\"color: #800000; text-decoration-color: #800000; font-weight: bold\">]</span><span style=\"color: #800000; text-decoration-color: #800000\">Brinquedos</span>\n",
              "<span style=\"color: #800000; text-decoration-color: #800000; font-weight: bold\">[</span><span style=\"color: #800000; text-decoration-color: #800000; font-weight: bold\">2</span><span style=\"color: #800000; text-decoration-color: #800000; font-weight: bold\">]</span><span style=\"color: #800000; text-decoration-color: #800000\">Defensores do Universo</span>\n",
              "<span style=\"color: #800000; text-decoration-color: #800000; font-weight: bold\">[</span><span style=\"color: #800000; text-decoration-color: #800000; font-weight: bold\">3</span><span style=\"color: #800000; text-decoration-color: #800000; font-weight: bold\">]</span><span style=\"color: #800000; text-decoration-color: #800000\">Desenhos animados</span>\n",
              "<span style=\"color: #800000; text-decoration-color: #800000; font-weight: bold\">[</span><span style=\"color: #800000; text-decoration-color: #800000; font-weight: bold\">4</span><span style=\"color: #800000; text-decoration-color: #800000; font-weight: bold\">]</span><span style=\"color: #800000; text-decoration-color: #800000\">Ver pontuação</span>\n",
              "<span style=\"color: #800000; text-decoration-color: #800000; font-weight: bold\">[</span><span style=\"color: #800000; text-decoration-color: #800000; font-weight: bold\">5</span><span style=\"color: #800000; text-decoration-color: #800000; font-weight: bold\">]</span><span style=\"color: #800000; text-decoration-color: #800000\">Curiosidades sobre AnésIA e Gemini</span>\n",
              "<span style=\"color: #800000; text-decoration-color: #800000; font-weight: bold\">[</span><span style=\"color: #800000; text-decoration-color: #800000; font-weight: bold\">6</span><span style=\"color: #800000; text-decoration-color: #800000; font-weight: bold\">]</span><span style=\"color: #800000; text-decoration-color: #800000\">Objetivo do Game</span>\n",
              "<span style=\"color: #800000; text-decoration-color: #800000; font-weight: bold\">[</span><span style=\"color: #800000; text-decoration-color: #800000; font-weight: bold\">7</span><span style=\"color: #800000; text-decoration-color: #800000; font-weight: bold\">]</span><span style=\"color: #800000; text-decoration-color: #800000\">Sair</span>\n",
              "</pre>\n"
            ]
          },
          "metadata": {}
        },
        {
          "name": "stdout",
          "output_type": "stream",
          "text": [
            "DIGITE UMA OPÇÃO: 7\n"
          ]
        },
        {
          "output_type": "display_data",
          "data": {
            "text/plain": [
              "\n",
              "\u001b[1;31m============== Fim de Jogo =============\u001b[0m\n"
            ],
            "text/html": [
              "<pre style=\"white-space:pre;overflow-x:auto;line-height:normal;font-family:Menlo,'DejaVu Sans Mono',consolas,'Courier New',monospace\">\n",
              "<span style=\"color: #800000; text-decoration-color: #800000; font-weight: bold\">============== Fim de Jogo =============</span>\n",
              "</pre>\n"
            ]
          },
          "metadata": {}
        },
        {
          "output_type": "display_data",
          "data": {
            "text/plain": [
              "\n",
              "\u001b[1;31m======================================== \u001b[0m\n"
            ],
            "text/html": [
              "<pre style=\"white-space:pre;overflow-x:auto;line-height:normal;font-family:Menlo,'DejaVu Sans Mono',consolas,'Courier New',monospace\">\n",
              "<span style=\"color: #800000; text-decoration-color: #800000; font-weight: bold\">======================================== </span>\n",
              "</pre>\n"
            ]
          },
          "metadata": {}
        },
        {
          "output_type": "display_data",
          "data": {
            "text/plain": [
              "Parabéns! Você ganhou nosso jogo sobre os anos \u001b[1;36m80\u001b[0m!\n"
            ],
            "text/html": [
              "<pre style=\"white-space:pre;overflow-x:auto;line-height:normal;font-family:Menlo,'DejaVu Sans Mono',consolas,'Courier New',monospace\">Parabéns! Você ganhou nosso jogo sobre os anos <span style=\"color: #008080; text-decoration-color: #008080; font-weight: bold\">80</span>!\n",
              "</pre>\n"
            ]
          },
          "metadata": {}
        },
        {
          "output_type": "display_data",
          "data": {
            "text/plain": [
              "Você fez  \u001b[1;36m2\u001b[0m \u001b[1;35mponto\u001b[0m\u001b[1m(\u001b[0ms\u001b[1m)\u001b[0m.\n"
            ],
            "text/html": [
              "<pre style=\"white-space:pre;overflow-x:auto;line-height:normal;font-family:Menlo,'DejaVu Sans Mono',consolas,'Courier New',monospace\">Você fez  <span style=\"color: #008080; text-decoration-color: #008080; font-weight: bold\">2</span> <span style=\"color: #800080; text-decoration-color: #800080; font-weight: bold\">ponto</span><span style=\"font-weight: bold\">(</span>s<span style=\"font-weight: bold\">)</span>.\n",
              "</pre>\n"
            ]
          },
          "metadata": {}
        },
        {
          "output_type": "display_data",
          "data": {
            "text/plain": [
              "Eu fiz  \u001b[1;36m0\u001b[0m \u001b[1;35mponto\u001b[0m\u001b[1m(\u001b[0ms\u001b[1m)\u001b[0m.\n"
            ],
            "text/html": [
              "<pre style=\"white-space:pre;overflow-x:auto;line-height:normal;font-family:Menlo,'DejaVu Sans Mono',consolas,'Courier New',monospace\">Eu fiz  <span style=\"color: #008080; text-decoration-color: #008080; font-weight: bold\">0</span> <span style=\"color: #800080; text-decoration-color: #800080; font-weight: bold\">ponto</span><span style=\"font-weight: bold\">(</span>s<span style=\"font-weight: bold\">)</span>.\n",
              "</pre>\n"
            ]
          },
          "metadata": {}
        },
        {
          "output_type": "display_data",
          "data": {
            "text/plain": [
              "Obrigada por participar! Você usou a Inteligência Artificial no presente para relembrar o passado!\n"
            ],
            "text/html": [
              "<pre style=\"white-space:pre;overflow-x:auto;line-height:normal;font-family:Menlo,'DejaVu Sans Mono',consolas,'Courier New',monospace\">Obrigada por participar! Você usou a Inteligência Artificial no presente para relembrar o passado!\n",
              "</pre>\n"
            ]
          },
          "metadata": {}
        },
        {
          "output_type": "stream",
          "name": "stdout",
          "text": [
            "Até a próxima!\n"
          ]
        },
        {
          "output_type": "display_data",
          "data": {
            "text/plain": [
              "\n",
              "\u001b[1;31m======================================== \u001b[0m\n"
            ],
            "text/html": [
              "<pre style=\"white-space:pre;overflow-x:auto;line-height:normal;font-family:Menlo,'DejaVu Sans Mono',consolas,'Courier New',monospace\">\n",
              "<span style=\"color: #800000; text-decoration-color: #800000; font-weight: bold\">======================================== </span>\n",
              "</pre>\n"
            ]
          },
          "metadata": {}
        },
        {
          "output_type": "display_data",
          "data": {
            "text/plain": [
              "\n",
              "\u001b[1;31m======================================== \u001b[0m\n"
            ],
            "text/html": [
              "<pre style=\"white-space:pre;overflow-x:auto;line-height:normal;font-family:Menlo,'DejaVu Sans Mono',consolas,'Courier New',monospace\">\n",
              "<span style=\"color: #800000; text-decoration-color: #800000; font-weight: bold\">======================================== </span>\n",
              "</pre>\n"
            ]
          },
          "metadata": {}
        }
      ]
    }
  ]
}